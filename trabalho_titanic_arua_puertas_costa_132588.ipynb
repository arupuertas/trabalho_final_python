{
  "cells": [
    {
      "cell_type": "markdown",
      "source": [
        "# **Trabalho Final**\n",
        "### Algoritmos e Programação com Linguagem Python\n",
        "---\n",
        "\n",
        "**Orientações Gerais:**\n",
        "\n",
        "* Esta é o trabalho final prático onde serão trabalhados conceitos\n",
        "apresentados e exercitados em sala de aula.\n",
        "\n",
        "* Aspéctos como clareza e organização do código, comentários, raciocínio lógico, coerência no nome de variáveis, utilização das estruturas mais adequadas para a solução dos problemas e o funcionamento adequado serão analisados e irão compor o valor da nota final.\n",
        "\n",
        "* Procure entender exatamente o que se pede antes de iniciar a codificação. Quando se sabe o que é necessário fazer, a codificação fica mais fácil, mais eficiente e mais divertida ;-).\n",
        "\n",
        "* Faça o upload do notebook completo nomeado da seguinte forma: *nome_sobrenome_RA.ipynb*.\n",
        "\n",
        "* No caso de grupos, informar ao professor os membros de cada grupo e cada um deverá importar o arquivo no Canvas individualmente.\n",
        "\n",
        "* Arquivos com nomes incorretos serão desconsiderados!\n",
        "\n",
        "* Não deixem dúvidas para trás! Acessem os grupos combinados ou entrem em contato com o professor.\n",
        "\n",
        "✌ Sucesso o/\n",
        "\n",
        "\n",
        "\n",
        "\n"
      ],
      "metadata": {
        "id": "LvTRZZisW_3u"
      }
    },
    {
      "cell_type": "markdown",
      "metadata": {
        "id": "xEBhSxBGTgS0"
      },
      "source": [
        "# RMS Titanic\n",
        "\n",
        "O RMS Titanic foi um navio de passageiros britânico operado pela White Star Line e construído pelos estaleiros da Harland and Wolff em Belfast. Foi a segunda embarcação da Classe Olympic de transatlânticos depois do RMS Olympic e seguido pelo HMHS Britannic. Projetado pelos engenheiros navais Alexander Carlisle e Thomas Andrews, sua construção começou em março de 1909 e ele foi lançado ao mar em maio de 1911. O Titanic foi pensado para ser o navio mais luxuoso e mais seguro de sua época, gerando lendas que era supostamente \"inafundável\".\n",
        "\n",
        "A embarcação partiu em sua viagem inaugural de Southampton para Nova Iorque em 10 de abril de 1912, no caminho passando em Cherbourg-Octeville na França e por Queenstown na Irlanda. Ele colidiu com um iceberg às 23h40min do dia 14 de abril e afundou na madrugada do dia seguinte matando mais de 1500 pessoas, sendo um dos maiores desastres marítimos em tempos de paz de toda a história. Seu naufrágio destacou vários pontos fracos de seu projeto, deficiências nos procedimentos de evacuação de emergência e falhas nas regulamentações marítimas da época. Comissões de inquérito foram instauradas nos Estados Unidos e no Reino Unido, levando a mudanças nas leis internacionais de navegação que permanecem em vigor mais de um século depois.\n",
        "\n",
        "Os destroços do Titanic foram procurados por décadas até serem encontrados em 1985 por uma equipe liderada por Robert Ballard. Ele se encontra a 3843 m de profundidade e a 650 km ao sudeste de Terra Nova no Canadá. Sua história e naufrágio permaneceram no imaginário popular durante décadas, levando a produção de vários livros e filmes a seu respeito, mais notavelmente o filme Titanic de 1997. Até hoje o Titanic permanece como um dos navios mais famosos da história, com seus destroços atraindo várias expedições de exploração ao longo dos anos.\n",
        "\n",
        "*Fonte:* [WikiPedia](https://pt.wikipedia.org/wiki/RMS_Titanic)\n",
        "\n",
        "--------"
      ]
    },
    {
      "cell_type": "markdown",
      "metadata": {
        "id": "L1MhpnxMTgS2"
      },
      "source": [
        "A equipe da [Udacity](https://udacity.com) disponibilizou informações sobre uma parte dos passageiros à bordo do RMS Titanic no dia daquela tragédia. Esse _dataset_ que contém informações reais vem sendo utilizado em diversos estudos de caso, além de servir de base para aprendizado de Ciência de Dados, Estatística e Machine Learning.\n",
        "\n",
        "O arquivo **titanic_data.csv** contém informações reais sobre os passageiros organizadas da seguinte forma:\n",
        "\n",
        "- Survived (Sobreviveu): 0 = Não, 1 = Sim\n",
        "- Pclass (Classe): Classe de ingresso 1 = 1º, 2 = 2º, 3 = 3º\n",
        "- Sex (Sexo): Sexo do passageiro\n",
        "- Age (Idade): Idade em anos\n",
        "- Sibsp: Quantidade de irmãos / cônjuges a bordo do Titanic\n",
        "- Parch: Quantidade de pais / crianças a bordo do Titanic\n",
        "- Ticket (Bilhete): Número do bilhete de embarque\n",
        "- Fare (Tarifa): Tarifa paga pelo Passageiro\n",
        "- Cabin (Cabine): Número de cabine\n",
        "- Embarked (Embarque): Porto de Embarque (C = Cherbourg, Q = Queenstown, S = Southampton)\n",
        "\n",
        "O objetivo deste estudo é obter algumas informações estatísticas sobre a tragédia e realizar alguns _insights_ a respeito dos tripulantes e das circunstâncias do acidente.\n",
        "\n",
        "Efetue a carga do arquivo através da biblioteca _Pandas_ e a partir do _DataFrame_ gerado, efetue as operações necessárias para responder as questões.\n"
      ]
    },
    {
      "cell_type": "markdown",
      "metadata": {
        "id": "O2wsN6iSTgS2"
      },
      "source": [
        "## Importando o DataSet"
      ]
    },
    {
      "cell_type": "markdown",
      "metadata": {
        "id": "B4UlEZmATgS3"
      },
      "source": [
        "1 - Efetuar a leitura do dataset através do Pandas, gerando um DataFrame de nome tit, levando-se em consideração que o arquivo encontra-se na mesma pasta do notebook."
      ]
    },
    {
      "cell_type": "code",
      "source": [
        "import pandas as pd\n",
        "\n",
        "tit = pd.read_csv('titanic_data.csv')"
      ],
      "metadata": {
        "id": "WI7aXfnzTjHQ"
      },
      "execution_count": 63,
      "outputs": []
    },
    {
      "cell_type": "markdown",
      "metadata": {
        "id": "2iQYh_DATgS4"
      },
      "source": [
        "## Conhecendo o DataSet"
      ]
    },
    {
      "cell_type": "markdown",
      "metadata": {
        "id": "rypSFW-qTgS4"
      },
      "source": [
        "2 - Quantas linhas e colunas tem o dataset? Quais os tipos das colunas?"
      ]
    },
    {
      "cell_type": "code",
      "source": [
        "print('Quantidade de Linhas e Colunas: ')\n",
        "print(tit.shape)\n",
        "columns_name = tit.columns\n",
        "print('Nome das colunas: ')\n",
        "print(columns_name)\n"
      ],
      "metadata": {
        "id": "IyrMKzaQTkkx",
        "colab": {
          "base_uri": "https://localhost:8080/"
        },
        "outputId": "86da07d4-5f1e-4d9d-bcec-40e8be46f78b"
      },
      "execution_count": 64,
      "outputs": [
        {
          "output_type": "stream",
          "name": "stdout",
          "text": [
            "Quantidade de Linhas e Colunas: \n",
            "(891, 12)\n",
            "Nome das colunas: \n",
            "Index(['PassengerId', 'Survived', 'Pclass', 'Name', 'Sex', 'Age', 'SibSp',\n",
            "       'Parch', 'Ticket', 'Fare', 'Cabin', 'Embarked'],\n",
            "      dtype='object')\n"
          ]
        }
      ]
    },
    {
      "cell_type": "markdown",
      "metadata": {
        "id": "L40fXuSRTgS5"
      },
      "source": [
        "3 - Mostre os dados dos dez primeiros e 8 últimos registros do dataset."
      ]
    },
    {
      "cell_type": "code",
      "source": [
        "print(\"Primeiros 10 registros: \")\n",
        "print(tit.head(10))\n",
        "\n",
        "print(\"Últimos 8 registros: \")\n",
        "print(tit.tail(8))"
      ],
      "metadata": {
        "id": "QEFq1_V8TmAZ",
        "colab": {
          "base_uri": "https://localhost:8080/"
        },
        "outputId": "b764603a-901d-4d2f-9a86-ba027b862c13"
      },
      "execution_count": 65,
      "outputs": [
        {
          "output_type": "stream",
          "name": "stdout",
          "text": [
            "Primeiros 10 registros: \n",
            "   PassengerId  Survived  Pclass  \\\n",
            "0            1         0       3   \n",
            "1            2         1       1   \n",
            "2            3         1       3   \n",
            "3            4         1       1   \n",
            "4            5         0       3   \n",
            "5            6         0       3   \n",
            "6            7         0       1   \n",
            "7            8         0       3   \n",
            "8            9         1       3   \n",
            "9           10         1       2   \n",
            "\n",
            "                                                Name     Sex   Age  SibSp  \\\n",
            "0                            Braund, Mr. Owen Harris    male  22.0      1   \n",
            "1  Cumings, Mrs. John Bradley (Florence Briggs Th...  female  38.0      1   \n",
            "2                             Heikkinen, Miss. Laina  female  26.0      0   \n",
            "3       Futrelle, Mrs. Jacques Heath (Lily May Peel)  female  35.0      1   \n",
            "4                           Allen, Mr. William Henry    male  35.0      0   \n",
            "5                                   Moran, Mr. James    male   NaN      0   \n",
            "6                            McCarthy, Mr. Timothy J    male  54.0      0   \n",
            "7                     Palsson, Master. Gosta Leonard    male   2.0      3   \n",
            "8  Johnson, Mrs. Oscar W (Elisabeth Vilhelmina Berg)  female  27.0      0   \n",
            "9                Nasser, Mrs. Nicholas (Adele Achem)  female  14.0      1   \n",
            "\n",
            "   Parch            Ticket     Fare Cabin Embarked  \n",
            "0      0         A/5 21171   7.2500   NaN        S  \n",
            "1      0          PC 17599  71.2833   C85        C  \n",
            "2      0  STON/O2. 3101282   7.9250   NaN        S  \n",
            "3      0            113803  53.1000  C123        S  \n",
            "4      0            373450   8.0500   NaN        S  \n",
            "5      0            330877   8.4583   NaN        Q  \n",
            "6      0             17463  51.8625   E46        S  \n",
            "7      1            349909  21.0750   NaN        S  \n",
            "8      2            347742  11.1333   NaN        S  \n",
            "9      0            237736  30.0708   NaN        C  \n",
            "Últimos 8 registros: \n",
            "     PassengerId  Survived  Pclass                                      Name  \\\n",
            "883          884         0       2             Banfield, Mr. Frederick James   \n",
            "884          885         0       3                    Sutehall, Mr. Henry Jr   \n",
            "885          886         0       3      Rice, Mrs. William (Margaret Norton)   \n",
            "886          887         0       2                     Montvila, Rev. Juozas   \n",
            "887          888         1       1              Graham, Miss. Margaret Edith   \n",
            "888          889         0       3  Johnston, Miss. Catherine Helen \"Carrie\"   \n",
            "889          890         1       1                     Behr, Mr. Karl Howell   \n",
            "890          891         0       3                       Dooley, Mr. Patrick   \n",
            "\n",
            "        Sex   Age  SibSp  Parch            Ticket    Fare Cabin Embarked  \n",
            "883    male  28.0      0      0  C.A./SOTON 34068  10.500   NaN        S  \n",
            "884    male  25.0      0      0   SOTON/OQ 392076   7.050   NaN        S  \n",
            "885  female  39.0      0      5            382652  29.125   NaN        Q  \n",
            "886    male  27.0      0      0            211536  13.000   NaN        S  \n",
            "887  female  19.0      0      0            112053  30.000   B42        S  \n",
            "888  female   NaN      1      2        W./C. 6607  23.450   NaN        S  \n",
            "889    male  26.0      0      0            111369  30.000  C148        C  \n",
            "890    male  32.0      0      0            370376   7.750   NaN        Q  \n"
          ]
        }
      ]
    },
    {
      "cell_type": "markdown",
      "metadata": {
        "id": "cZyn3_NOTgS6"
      },
      "source": [
        "4 - Cálculos envolvendo colunas numéricas com dados faltantes podem sofrer impacto. É possível afirmar se há dados faltantes no dataset? Caso positivo, quais e quantos seriam esses dados? Preencha os dados faltantes de forma que não influenciem em operações futuras."
      ]
    },
    {
      "cell_type": "code",
      "source": [
        "dados_faltantes = tit.isnull().sum()\n",
        "print(dados_faltantes)\n",
        "\n",
        "#Preencher cabine com None\n",
        "tit['Cabin'].fillna('None', inplace=True)\n",
        "#Preencher idade com a média\n",
        "tit['Age'].fillna(tit['Age'].mean(), inplace=True)\n",
        "#Preencher com o que tiver maior qunatidade\n",
        "tit['Embarked'].fillna(tit['Embarked'].mode()[0], inplace=True)"
      ],
      "metadata": {
        "id": "Mj5d7y5ZTnbi",
        "colab": {
          "base_uri": "https://localhost:8080/"
        },
        "outputId": "819d3afe-7af2-4160-fa9c-7fe4b15ca620"
      },
      "execution_count": 67,
      "outputs": [
        {
          "output_type": "stream",
          "name": "stdout",
          "text": [
            "PassengerId    0\n",
            "Survived       0\n",
            "Pclass         0\n",
            "Name           0\n",
            "Sex            0\n",
            "Age            0\n",
            "SibSp          0\n",
            "Parch          0\n",
            "Ticket         0\n",
            "Fare           0\n",
            "Cabin          0\n",
            "Embarked       0\n",
            "dtype: int64\n"
          ]
        },
        {
          "output_type": "stream",
          "name": "stderr",
          "text": [
            "<ipython-input-67-4d9769791672>:7: FutureWarning: A value is trying to be set on a copy of a DataFrame or Series through chained assignment using an inplace method.\n",
            "The behavior will change in pandas 3.0. This inplace method will never work because the intermediate object on which we are setting values always behaves as a copy.\n",
            "\n",
            "For example, when doing 'df[col].method(value, inplace=True)', try using 'df.method({col: value}, inplace=True)' or df[col] = df[col].method(value) instead, to perform the operation inplace on the original object.\n",
            "\n",
            "\n",
            "  tit['Age'].fillna(tit['Age'].mean(), inplace=True)\n"
          ]
        }
      ]
    },
    {
      "cell_type": "markdown",
      "metadata": {
        "id": "NkmmE-G1TgS6"
      },
      "source": [
        "## Adequando o DataSet"
      ]
    },
    {
      "cell_type": "markdown",
      "metadata": {
        "id": "sHIXSM-3TgS6"
      },
      "source": [
        "5 - Uma vez que algumas colunas não serão utilizadas, eventualmente é melhor excluí-las para que não interfiram na análise. Assim, exclua do dataset as colunas Sibsp, Parch e Ticket."
      ]
    },
    {
      "cell_type": "code",
      "source": [
        "#Eliminando as colunas: Sibsp, Parch e Ticket.\n",
        "tit_sem_colunas = tit.drop(['SibSp', 'Parch', 'Ticket'], axis=1)\n",
        "print(tit_sem_colunas)"
      ],
      "metadata": {
        "id": "TovKKLO8TouW",
        "colab": {
          "base_uri": "https://localhost:8080/"
        },
        "outputId": "59f82f7d-8d2e-494a-f8b7-c085b761e47e"
      },
      "execution_count": 68,
      "outputs": [
        {
          "output_type": "stream",
          "name": "stdout",
          "text": [
            "     PassengerId  Survived  Pclass  \\\n",
            "0              1         0       3   \n",
            "1              2         1       1   \n",
            "2              3         1       3   \n",
            "3              4         1       1   \n",
            "4              5         0       3   \n",
            "..           ...       ...     ...   \n",
            "886          887         0       2   \n",
            "887          888         1       1   \n",
            "888          889         0       3   \n",
            "889          890         1       1   \n",
            "890          891         0       3   \n",
            "\n",
            "                                                  Name     Sex        Age  \\\n",
            "0                              Braund, Mr. Owen Harris    male  22.000000   \n",
            "1    Cumings, Mrs. John Bradley (Florence Briggs Th...  female  38.000000   \n",
            "2                               Heikkinen, Miss. Laina  female  26.000000   \n",
            "3         Futrelle, Mrs. Jacques Heath (Lily May Peel)  female  35.000000   \n",
            "4                             Allen, Mr. William Henry    male  35.000000   \n",
            "..                                                 ...     ...        ...   \n",
            "886                              Montvila, Rev. Juozas    male  27.000000   \n",
            "887                       Graham, Miss. Margaret Edith  female  19.000000   \n",
            "888           Johnston, Miss. Catherine Helen \"Carrie\"  female  29.699118   \n",
            "889                              Behr, Mr. Karl Howell    male  26.000000   \n",
            "890                                Dooley, Mr. Patrick    male  32.000000   \n",
            "\n",
            "        Fare Cabin Embarked  \n",
            "0     7.2500  None        S  \n",
            "1    71.2833   C85        C  \n",
            "2     7.9250  None        S  \n",
            "3    53.1000  C123        S  \n",
            "4     8.0500  None        S  \n",
            "..       ...   ...      ...  \n",
            "886  13.0000  None        S  \n",
            "887  30.0000   B42        S  \n",
            "888  23.4500  None        S  \n",
            "889  30.0000  C148        C  \n",
            "890   7.7500  None        Q  \n",
            "\n",
            "[891 rows x 9 columns]\n"
          ]
        }
      ]
    },
    {
      "cell_type": "markdown",
      "metadata": {
        "id": "Ywm6ZYE_TgS6"
      },
      "source": [
        "6 - Renomear as colunas restantes para a lingua portuguesa, utilizando os seguintes nomes de colunas: IdPassageiro, Sobreviveu, Classe, Nome, Sexo, Idade, Tarifa, Cabine e Embarque."
      ]
    },
    {
      "cell_type": "code",
      "source": [
        "#Renomeando para Portugues\n",
        "tit = tit.rename(columns={\n",
        "    'PassengerId': 'IdPassageiro',\n",
        "    'Survived': 'Sobreviveu',\n",
        "    'Pclass': 'Classe',\n",
        "    'Name': 'Nome',\n",
        "    'Sex': 'Sexo',\n",
        "    'Age': 'Idade',\n",
        "    'Fare': 'Tarifa',\n",
        "    'Cabin': 'Cabine',\n",
        "    'Embarked': 'Embarque'\n",
        "})\n",
        "print(tit)"
      ],
      "metadata": {
        "id": "WwFGynIHTp0r",
        "colab": {
          "base_uri": "https://localhost:8080/"
        },
        "outputId": "16827fb9-488d-45d0-8a66-33768fd211ad"
      },
      "execution_count": 69,
      "outputs": [
        {
          "output_type": "stream",
          "name": "stdout",
          "text": [
            "     IdPassageiro  Sobreviveu  Classe  \\\n",
            "0               1           0       3   \n",
            "1               2           1       1   \n",
            "2               3           1       3   \n",
            "3               4           1       1   \n",
            "4               5           0       3   \n",
            "..            ...         ...     ...   \n",
            "886           887           0       2   \n",
            "887           888           1       1   \n",
            "888           889           0       3   \n",
            "889           890           1       1   \n",
            "890           891           0       3   \n",
            "\n",
            "                                                  Nome    Sexo      Idade  \\\n",
            "0                              Braund, Mr. Owen Harris    male  22.000000   \n",
            "1    Cumings, Mrs. John Bradley (Florence Briggs Th...  female  38.000000   \n",
            "2                               Heikkinen, Miss. Laina  female  26.000000   \n",
            "3         Futrelle, Mrs. Jacques Heath (Lily May Peel)  female  35.000000   \n",
            "4                             Allen, Mr. William Henry    male  35.000000   \n",
            "..                                                 ...     ...        ...   \n",
            "886                              Montvila, Rev. Juozas    male  27.000000   \n",
            "887                       Graham, Miss. Margaret Edith  female  19.000000   \n",
            "888           Johnston, Miss. Catherine Helen \"Carrie\"  female  29.699118   \n",
            "889                              Behr, Mr. Karl Howell    male  26.000000   \n",
            "890                                Dooley, Mr. Patrick    male  32.000000   \n",
            "\n",
            "     SibSp  Parch            Ticket   Tarifa Cabine Embarque  \n",
            "0        1      0         A/5 21171   7.2500   None        S  \n",
            "1        1      0          PC 17599  71.2833    C85        C  \n",
            "2        0      0  STON/O2. 3101282   7.9250   None        S  \n",
            "3        1      0            113803  53.1000   C123        S  \n",
            "4        0      0            373450   8.0500   None        S  \n",
            "..     ...    ...               ...      ...    ...      ...  \n",
            "886      0      0            211536  13.0000   None        S  \n",
            "887      0      0            112053  30.0000    B42        S  \n",
            "888      1      2        W./C. 6607  23.4500   None        S  \n",
            "889      0      0            111369  30.0000   C148        C  \n",
            "890      0      0            370376   7.7500   None        Q  \n",
            "\n",
            "[891 rows x 12 columns]\n"
          ]
        }
      ]
    },
    {
      "cell_type": "markdown",
      "metadata": {
        "id": "om9yLJRSTgS7"
      },
      "source": [
        "7 - Alterar o conteudo da coluna Sobreviveu para:\n",
        "- 0 => Não\n",
        "- 1 => Sim"
      ]
    },
    {
      "cell_type": "code",
      "source": [
        "#Criando a variavel column_survived\n",
        "column_survived = tit['Sobreviveu']\n",
        "#Atribuindo a 1 - o valor inicial\n",
        "column_survived = 1 - tit['Sobreviveu']\n",
        "#Valores invertidos\n",
        "print(column_survived)"
      ],
      "metadata": {
        "id": "ffDQ85AJTrxZ",
        "colab": {
          "base_uri": "https://localhost:8080/"
        },
        "outputId": "f62e2b9b-1aeb-4282-893b-e97b2ac40042"
      },
      "execution_count": 70,
      "outputs": [
        {
          "output_type": "stream",
          "name": "stdout",
          "text": [
            "0      1\n",
            "1      0\n",
            "2      0\n",
            "3      0\n",
            "4      1\n",
            "      ..\n",
            "886    1\n",
            "887    0\n",
            "888    1\n",
            "889    0\n",
            "890    1\n",
            "Name: Sobreviveu, Length: 891, dtype: int64\n"
          ]
        }
      ]
    },
    {
      "cell_type": "markdown",
      "metadata": {
        "id": "CmoyJaKCTgS7"
      },
      "source": [
        "8 - Alterar o conteudo da coluna Sexo para:\n",
        "- female => Mulher\n",
        "- male   => Homem"
      ]
    },
    {
      "cell_type": "code",
      "source": [
        "#Alterado conteudo da coluna Sexo para female => Mulher e male => Homem\n",
        "tit['Sexo'] = tit['Sexo'].replace({'female': 'Mulher', 'male': 'Homem'})\n",
        "print(tit['Sexo'])"
      ],
      "metadata": {
        "id": "0HCSucRsTtaF",
        "colab": {
          "base_uri": "https://localhost:8080/"
        },
        "outputId": "0619776c-c061-452f-fa4f-85512615bb2a"
      },
      "execution_count": 71,
      "outputs": [
        {
          "output_type": "stream",
          "name": "stdout",
          "text": [
            "0       Homem\n",
            "1      Mulher\n",
            "2      Mulher\n",
            "3      Mulher\n",
            "4       Homem\n",
            "        ...  \n",
            "886     Homem\n",
            "887    Mulher\n",
            "888    Mulher\n",
            "889     Homem\n",
            "890     Homem\n",
            "Name: Sexo, Length: 891, dtype: object\n"
          ]
        }
      ]
    },
    {
      "cell_type": "markdown",
      "metadata": {
        "id": "xns3YqQcTgS7"
      },
      "source": [
        "## Alguns números"
      ]
    },
    {
      "cell_type": "markdown",
      "metadata": {
        "id": "4pDJXfz3TgS7"
      },
      "source": [
        "9 - Quantas mulheres e quantos homems estavam à bordo, de acordo com o dataset?"
      ]
    },
    {
      "cell_type": "code",
      "source": [
        "#Descobrindo a quantidade de Mulheres\n",
        "qtn_female = 0\n",
        "for person in tit['Sexo']:\n",
        "    if person == 'Mulher':\n",
        "        qtn_female+=1\n",
        "#Descobrindo a quantidade de Homens\n",
        "quantidade_registros = len(tit)\n",
        "qtn_male = quantidade_registros - qtn_female\n",
        "\n",
        "#Quantidade de Mulheres:\n",
        "print(f'A tinham {qtn_female} passageiros do sexo feminino')\n",
        "#Quantidade de Homens:\n",
        "print(f'A tinham {qtn_male} passageiros do sexo masculino')"
      ],
      "metadata": {
        "id": "vCAQLJAETvPA",
        "colab": {
          "base_uri": "https://localhost:8080/"
        },
        "outputId": "43f52c65-3457-41bd-970a-47ea20ab9768"
      },
      "execution_count": 72,
      "outputs": [
        {
          "output_type": "stream",
          "name": "stdout",
          "text": [
            "A tinham 314 passageiros do sexo feminino\n",
            "A tinham 577 passageiros do sexo masculino\n"
          ]
        }
      ]
    },
    {
      "cell_type": "markdown",
      "metadata": {
        "id": "o6lbuat3TgS7"
      },
      "source": [
        "10 - Quantos passageiros sobreviveram e quantos não sobreviveram?"
      ]
    },
    {
      "cell_type": "code",
      "source": [
        "#Pegando a contagem de sobreviventes\n",
        "contagem_sobreviventes = tit['Sobreviveu'].value_counts()\n",
        "#0 Morreu\n",
        "#1 Viveu\n",
        "sobreviventes = contagem_sobreviventes.get(1)\n",
        "nao_sobreviventes = contagem_sobreviventes.get(0)\n",
        "print(f'Sobreviventes: {sobreviventes}')\n",
        "print(f'Não sobreviventes: {nao_sobreviventes}')"
      ],
      "metadata": {
        "id": "3QHMnzbCTweD",
        "colab": {
          "base_uri": "https://localhost:8080/"
        },
        "outputId": "2ff47a3a-1a1d-46ab-8b8a-58960de0e859"
      },
      "execution_count": 73,
      "outputs": [
        {
          "output_type": "stream",
          "name": "stdout",
          "text": [
            "Sobreviventes: 342\n",
            "Não sobreviventes: 549\n"
          ]
        }
      ]
    },
    {
      "cell_type": "markdown",
      "metadata": {
        "id": "TJr51qAsTgS8"
      },
      "source": [
        "11 - Quantas mulheres não sobreviveram?"
      ]
    },
    {
      "cell_type": "code",
      "source": [
        "#Descobrindo a quantidade de Mulheres que não sobreviveram\n",
        "qtn_female_survived = 0\n",
        "for person, survive in zip(tit['Sexo'], tit['Sobreviveu']):\n",
        "    if person == 'Mulher' and survive == 0:\n",
        "        qtn_female_survived+=1\n",
        "print(f'Quantidade de Mulheres que não sobreviveram: {qtn_female_survived}')"
      ],
      "metadata": {
        "id": "3ODFPSasTx66",
        "colab": {
          "base_uri": "https://localhost:8080/"
        },
        "outputId": "576c686f-9179-48f5-fd40-86905900cec5"
      },
      "execution_count": 74,
      "outputs": [
        {
          "output_type": "stream",
          "name": "stdout",
          "text": [
            "Quantidade de Mulheres que não sobreviveram: 81\n"
          ]
        }
      ]
    },
    {
      "cell_type": "markdown",
      "metadata": {
        "id": "OLLm023rTgS8"
      },
      "source": [
        "12 - Proporcionalmente, sobreviveram mais homens ou mais mulheres?\n",
        "\n",
        "---\n",
        "\n",
        "Cite as proporções."
      ]
    },
    {
      "cell_type": "code",
      "source": [
        "import matplotlib.pyplot as plt\n",
        "#Contadores para homens e mulheres\n",
        "total_male = 0\n",
        "total_female = 0\n",
        "survived_male = 0\n",
        "survived_female = 0\n",
        "\n",
        "for person, survive in zip(tit['Sexo'], tit['Sobreviveu']):\n",
        "    if person == 'Mulher':\n",
        "        total_female += 1\n",
        "        if survive == 1:\n",
        "            survived_female += 1\n",
        "    elif person == 'Homem':\n",
        "        total_male += 1\n",
        "        if survive == 1:\n",
        "            survived_male += 1\n",
        "\n",
        "proportion_female = (survived_female / total_female)*100\n",
        "proportion_male = (survived_male / total_male)*100\n",
        "\n",
        "print(f\"Quantidade de mulheres que sobreviveram: {survived_female}\")\n",
        "print(f\"Quantidade de homens que sobreviveram: {survived_male}\")\n",
        "print(f\"Proporção de sobreviventes (mulheres): {proportion_female:.2f}%\")\n",
        "print(f\"Proporção de sobreviventes (homens): {proportion_male:.2f}%\")\n",
        "#grádico de barras e homens e mulheres\n",
        "labels = ['Mulheres', 'Homens']\n",
        "proporcao = [proportion_female, proportion_male]\n",
        "plt.bar(labels, proporcao)\n",
        "plt.title('Proporção de Sobreviventes p/ Sexo')\n",
        "plt.ylabel('% Sobreviventes')\n",
        "plt.xlabel('Sexo')\n",
        "plt.ylim(0, 100)\n",
        "plt.show()"
      ],
      "metadata": {
        "id": "DaFvn87iTzDj",
        "colab": {
          "base_uri": "https://localhost:8080/",
          "height": 541
        },
        "outputId": "1fbe7de8-c852-409c-fb7e-8824685a55d4"
      },
      "execution_count": 76,
      "outputs": [
        {
          "output_type": "stream",
          "name": "stdout",
          "text": [
            "Quantidade de mulheres que sobreviveram: 233\n",
            "Quantidade de homens que sobreviveram: 109\n",
            "Proporção de sobreviventes (mulheres): 74.20%\n",
            "Proporção de sobreviventes (homens): 18.89%\n"
          ]
        },
        {
          "output_type": "display_data",
          "data": {
            "text/plain": [
              "<Figure size 640x480 with 1 Axes>"
            ],
            "image/png": "[encoded data removed]"
          },
          "metadata": {}
        }
      ]
    },
    {
      "cell_type": "markdown",
      "metadata": {
        "id": "F5eLSZ_kTgS8"
      },
      "source": [
        "13 - Levando-se em consideração a idade dos passageiros, qual a idade e quantidade de pessoas com o maior número de mortos?"
      ]
    },
    {
      "cell_type": "code",
      "source": [
        "#Contar a frequência de cada número quando a coluna Sobreviveu for = 0\n",
        "#Filtrar somente as linhas onde Sobreviveu == 0\n",
        "tit_survived_zero = tit[tit['Sobreviveu'] == 0]\n",
        "#print(tit_survived_zero)\n",
        "#Contar a frequência de números na coluna \"Idade\"\n",
        "freq = tit_survived_zero['Idade'].value_counts()\n",
        "print(\"Idade onde a quantidade de passageiros mortos foi maior: \")\n",
        "print(freq.head(1))"
      ],
      "metadata": {
        "id": "cPsUUJZIT0L8",
        "colab": {
          "base_uri": "https://localhost:8080/"
        },
        "outputId": "c05cc607-31dd-4fe7-e8e0-7a81e26738c5"
      },
      "execution_count": 56,
      "outputs": [
        {
          "output_type": "stream",
          "name": "stdout",
          "text": [
            "Idade onde a quantidade de passageiros mortos foi maior: \n",
            "Idade\n",
            "29.699118    125\n",
            "Name: count, dtype: int64\n"
          ]
        }
      ]
    },
    {
      "cell_type": "markdown",
      "metadata": {
        "id": "Q6IAIybZTgS8"
      },
      "source": [
        "14 - Qual a média de idade dos homens sobreviventes?"
      ]
    },
    {
      "cell_type": "code",
      "source": [
        "#Criando dataframe de Homens Sobreviventes:\n",
        "homens_sobreviventes = tit[(tit['Sexo'] == 'Homem') & (tit['Sobreviveu'] == 1)]\n",
        "#Calculando a média:\n",
        "media_idade_homens_sobreviventes = homens_sobreviventes['Idade'].mean()\n",
        "print(f\"A média de idade dos homens sobreviventes é: {media_idade_homens_sobreviventes:.0f} anos\")"
      ],
      "metadata": {
        "id": "eLd5KhGoT2SE",
        "colab": {
          "base_uri": "https://localhost:8080/"
        },
        "outputId": "e433fea2-f468-4abd-99f6-96a19c45abac"
      },
      "execution_count": 29,
      "outputs": [
        {
          "output_type": "stream",
          "name": "stdout",
          "text": [
            "A média de idade dos homens sobreviventes é: 28 anos\n"
          ]
        }
      ]
    },
    {
      "cell_type": "markdown",
      "metadata": {
        "id": "xj6hJjULTgS8"
      },
      "source": [
        "15 - Levando-se em consideração passageiros prioritários (mulheres e crianças de até 15 anos independente do sexo) qual a proporção de sobreviventes por sexo?"
      ]
    },
    {
      "cell_type": "code",
      "source": [
        "#Contadores para passageiros prioritários\n",
        "priority_total_male = 0\n",
        "priority_total_female = 0\n",
        "priority_survived_male = 0\n",
        "priority_survived_female = 0\n",
        "\n",
        "#Descobrindo a quantidade de passageiros com prioridade que sobreviveram\n",
        "for person, survive, age in zip(tit['Sexo'], tit['Sobreviveu'], tit['Idade']):\n",
        "    if person == 'Mulher':\n",
        "        priority_total_female += 1\n",
        "        if survive == 1:\n",
        "            priority_survived_female += 1\n",
        "    #Prioridade jovens e crianças de até 15 anos\n",
        "    elif age <= 15:\n",
        "        priority_total_male += 1\n",
        "        if survive == 1:\n",
        "            priority_survived_male += 1\n",
        "\n",
        "#Calcular proporções de sobreviventes homens e mulheres\n",
        "proportion_female = (priority_survived_female / priority_total_female)*100\n",
        "proportion_male = (priority_survived_male / priority_total_male)*100\n",
        "\n",
        "print(f\"Proporção de sobreviventes (mulheres): {proportion_female:.2f}%\")\n",
        "print(f\"Proporção de sobreviventes (homens até 15 anos): {proportion_male:.2f}%\")"
      ],
      "metadata": {
        "id": "94IR8qAQT4St",
        "colab": {
          "base_uri": "https://localhost:8080/"
        },
        "outputId": "69afd264-ff05-4008-fb90-d2dabbc8dc70"
      },
      "execution_count": 30,
      "outputs": [
        {
          "output_type": "stream",
          "name": "stdout",
          "text": [
            "Proporção de sobreviventes (mulheres): 74.20%\n",
            "Proporção de sobreviventes (homens até 15 anos): 52.50%\n"
          ]
        }
      ]
    },
    {
      "cell_type": "markdown",
      "metadata": {
        "id": "UB_bRGwGTgS8"
      },
      "source": [
        "16 - Qual a quantidade de passageiros por classe?"
      ]
    },
    {
      "cell_type": "code",
      "source": [
        "#Fazendo a contagem por Classe\n",
        "contagem_classe = tit['Classe'].value_counts()\n",
        "#Pegando os valores por Classe\n",
        "classe_tres = contagem_classe.get(3)\n",
        "classe_dois = contagem_classe.get(2)\n",
        "classe_um = contagem_classe.get(1)\n",
        "print(f'Quantidade de Passageiros da Classe 3: {classe_tres}')\n",
        "print(f'Quantidade de Passageiros da Classe 2: {classe_dois}')\n",
        "print(f'Quantidade de Passageiros da Classe 1: {classe_um}')\n",
        "#Criando o grafico\n",
        "labels = ['1° Classe', '2° Classe', '3° Classe']\n",
        "val = [classe_um, classe_dois, classe_tres]\n",
        "plt.bar(labels, val)\n",
        "plt.title('passageiros p/ classe')\n",
        "plt.ylabel('passageiros')\n",
        "plt.xlabel('classe')\n",
        "plt.show()"
      ],
      "metadata": {
        "id": "U7ProdJ1T40D",
        "colab": {
          "base_uri": "https://localhost:8080/",
          "height": 524
        },
        "outputId": "d85a3a02-797a-4ce9-99ac-1a1bb83af49e"
      },
      "execution_count": 79,
      "outputs": [
        {
          "output_type": "stream",
          "name": "stdout",
          "text": [
            "Quantidade de Passageiros da Classe 3: 491\n",
            "Quantidade de Passageiros da Classe 2: 184\n",
            "Quantidade de Passageiros da Classe 1: 216\n"
          ]
        },
        {
          "output_type": "display_data",
          "data": {
            "text/plain": [
              "<Figure size 640x480 with 1 Axes>"
            ],
            "image/png": "[encoded data removed]"
          },
          "metadata": {}
        }
      ]
    },
    {
      "cell_type": "markdown",
      "metadata": {
        "id": "2D4pHN2DTgS8"
      },
      "source": [
        "17 - Qual o percentual de sobreviventes por classe?"
      ]
    },
    {
      "cell_type": "code",
      "source": [
        "#Total de passageiros por classe\n",
        "total_por_classe = tit['Classe'].value_counts()\n",
        "\n",
        "#Sobreviventes por classe\n",
        "sobreviventes_por_classe = tit[tit['Sobreviveu'] == 1]['Classe'].value_counts()\n",
        "\n",
        "#Percentual de sobreviventes por classe\n",
        "percentual_sobreviventes = (sobreviventes_por_classe / total_por_classe * 100).sort_index()\n",
        "\n",
        "print(f'Percentual de sobreviventes da Classe 3: {percentual_sobreviventes.get(3):.2f}%')\n",
        "print(f'Percentual de sobreviventes da Classe 2: {percentual_sobreviventes.get(2):.2f}%')\n",
        "print(f'Percentual de sobreviventes da Classe 1: {percentual_sobreviventes.get(1):.2f}%')\n",
        "#Criando o grafco\n",
        "labels = ['1° Classe', '2° Classe', '3° Classe']\n",
        "val = [percentual_sobreviventes.get(1), percentual_sobreviventes.get(2), percentual_sobreviventes.get(3)]\n",
        "plt.bar(labels, val)\n",
        "plt.title('Sobreviventes p/ classe')\n",
        "plt.ylabel('% Sobreviventes')\n",
        "plt.xlabel('classe')\n",
        "plt.show()"
      ],
      "metadata": {
        "id": "1FdQfnmCT6We",
        "colab": {
          "base_uri": "https://localhost:8080/",
          "height": 524
        },
        "outputId": "8b0e4329-66e8-4c30-c6cd-4b14a4a1fc2d"
      },
      "execution_count": 81,
      "outputs": [
        {
          "output_type": "stream",
          "name": "stdout",
          "text": [
            "Percentual de sobreviventes da Classe 3: 24.24%\n",
            "Percentual de sobreviventes da Classe 2: 47.28%\n",
            "Percentual de sobreviventes da Classe 1: 62.96%\n"
          ]
        },
        {
          "output_type": "display_data",
          "data": {
            "text/plain": [
              "<Figure size 640x480 with 1 Axes>"
            ],
            "image/png": "[encoded data removed]"
          },
          "metadata": {}
        }
      ]
    },
    {
      "cell_type": "markdown",
      "metadata": {
        "id": "g_WXfCJ6TgS8"
      },
      "source": [
        "18 - Crie um dataframe que demonstre a quantidade de sobreviventes e não sobreviventes, agrupados por sexo e classe."
      ]
    },
    {
      "cell_type": "code",
      "source": [
        "#Agrupando os valores por Sexo, Classe e Sobreviveu:\n",
        "valores_agrupados = tit.groupby(['Sexo', 'Classe', 'Sobreviveu']).size()\n",
        "print(valores_agrupados)"
      ],
      "metadata": {
        "id": "qJ6RiYRRT7So",
        "colab": {
          "base_uri": "https://localhost:8080/"
        },
        "outputId": "864b6250-6897-4f17-bf17-18ed86c84cb8"
      },
      "execution_count": 33,
      "outputs": [
        {
          "output_type": "stream",
          "name": "stdout",
          "text": [
            "Sexo    Classe  Sobreviveu\n",
            "Homem   1       0              77\n",
            "                1              45\n",
            "        2       0              91\n",
            "                1              17\n",
            "        3       0             300\n",
            "                1              47\n",
            "Mulher  1       0               3\n",
            "                1              91\n",
            "        2       0               6\n",
            "                1              70\n",
            "        3       0              72\n",
            "                1              72\n",
            "dtype: int64\n"
          ]
        }
      ]
    },
    {
      "cell_type": "markdown",
      "metadata": {
        "id": "MI1Q_xXKTgS9"
      },
      "source": [
        "19 - Dos homens com idade entre 24 e 30 anos quantos da classe 3 sobreviveram? Quantos da classe 2 não sobreviveram?"
      ]
    },
    {
      "cell_type": "code",
      "source": [
        "#Homens com idade entre 24 e 30 anos na classe 3 que sobreviveram\n",
        "homens_classe3_sobreviveram = tit[\n",
        "    (tit['Sexo'] == 'Homem') &\n",
        "    (tit['Idade'] >= 24) &\n",
        "    (tit['Idade'] <= 30) &\n",
        "    (tit['Classe'] == 3) &\n",
        "    (tit['Sobreviveu'] == 1)\n",
        "].shape[0]\n",
        "\n",
        "#Homens com idade entre 24 e 30 anos na classe 2 que não sobreviveram\n",
        "homens_classe2_nao_sobreviveram = tit[\n",
        "    (tit['Sexo'] == 'Homem') &\n",
        "    (tit['Idade'] >= 24) &\n",
        "    (tit['Idade'] <= 30) &\n",
        "    (tit['Classe'] == 2) &\n",
        "    (tit['Sobreviveu'] == 0)\n",
        "].shape[0]\n",
        "\n",
        "print(f\"Quantidade de Homens entre 24 e 30 anos da classe 3 que sobreviveram: {homens_classe3_sobreviveram}\")\n",
        "print(f\"Quantidade de Homens entre 24 e 30 anos da classe 2 que não sobreviveram: {homens_classe2_nao_sobreviveram}\")"
      ],
      "metadata": {
        "id": "KhmuwtA_T8ZN",
        "colab": {
          "base_uri": "https://localhost:8080/"
        },
        "outputId": "716be024-e174-4084-bcc5-adfa0e319f1d"
      },
      "execution_count": 34,
      "outputs": [
        {
          "output_type": "stream",
          "name": "stdout",
          "text": [
            "Quantidade de Homens entre 24 e 30 anos da classe 3 que sobreviveram: 21\n",
            "Quantidade de Homens entre 24 e 30 anos da classe 2 que não sobreviveram: 31\n"
          ]
        }
      ]
    },
    {
      "cell_type": "markdown",
      "metadata": {
        "id": "OfWqSae2TgS9"
      },
      "source": [
        "20 - Calcule a probabilidade condicional de uma pessoa sobreviver, dado seu sexo e a classe em que estava viajando:\n",
        "- P(S= true | G=female,C=1)\n",
        "- P(S= true | G=female,C=2)\n",
        "- P(S= true | G=female,C=3)\n",
        "- P(S= true | G=male,C=1)\n",
        "- P(S= true | G=male,C=2)\n",
        "- P(S= true | G=male,C=3)"
      ]
    },
    {
      "cell_type": "code",
      "source": [
        "#Agrupando os dados de Classe e Sexo\n",
        "valores_agrupados = tit.groupby(['Sexo', 'Classe'])\n",
        "#print(valores_agrupados)\n",
        "total_sobreviventes_por_grupo = valores_agrupados['Sobreviveu'].sum()\n",
        "total_grupo = valores_agrupados['Sobreviveu'].count()\n",
        "#Calculando a probabilidade\n",
        "probabilidade_por_classe = (total_sobreviventes_por_grupo / total_grupo)*100\n",
        "print('Probabilidade de uma pessoa sobreviver dado seu Sexo e Classe que estava viajando')\n",
        "print(probabilidade_por_classe)"
      ],
      "metadata": {
        "id": "oNT0peDdT92N",
        "colab": {
          "base_uri": "https://localhost:8080/"
        },
        "outputId": "35fa8776-9e73-47d8-f6c3-b461bdd64c4d"
      },
      "execution_count": 35,
      "outputs": [
        {
          "output_type": "stream",
          "name": "stdout",
          "text": [
            "Probabilidade de uma pessoa sobreviver dado seu Sexo e Classe que estava viajando\n",
            "Sexo    Classe\n",
            "Homem   1         36.885246\n",
            "        2         15.740741\n",
            "        3         13.544669\n",
            "Mulher  1         96.808511\n",
            "        2         92.105263\n",
            "        3         50.000000\n",
            "Name: Sobreviveu, dtype: float64\n"
          ]
        }
      ]
    },
    {
      "cell_type": "markdown",
      "source": [
        "-------------------------------------------------------------------------"
      ],
      "metadata": {
        "id": "Xckux01a2yyp"
      }
    },
    {
      "cell_type": "markdown",
      "source": [
        "Grupo:\n",
        "Aruã Puertas RA: 132588  \n",
        "Lucas Fontan RA: 180348  \n",
        "Luigi Ianaconi RA: 180208  \n",
        "\n",
        "Obrigado !"
      ],
      "metadata": {
        "id": "UUOG1Mev2oIf"
      }
    },
    {
      "cell_type": "code",
      "source": [
        "from IPython.display import HTML\n",
        "HTML('<img src=\"https://media.giphy.com/media/sZRjUjcBFit6U/giphy.gif\" width=\"480\" height=\"269\">')"
      ],
      "metadata": {
        "colab": {
          "base_uri": "https://localhost:8080/",
          "height": 290
        },
        "id": "O9tH9EAwz_YW",
        "outputId": "91142611-99ee-43a9-c4de-d2fbb7ab73d7"
      },
      "execution_count": 28,
      "outputs": [
        {
          "output_type": "execute_result",
          "data": {
            "text/plain": [
              "<IPython.core.display.HTML object>"
            ],
            "text/html": [
              "<img src=\"https://media.giphy.com/media/sZRjUjcBFit6U/giphy.gif\" width=\"480\" height=\"269\">"
            ]
          },
          "metadata": {},
          "execution_count": 28
        }
      ]
    }
  ],
  "metadata": {
    "kernelspec": {
      "display_name": "Python 3",
      "language": "python",
      "name": "python3"
    },
    "language_info": {
      "codemirror_mode": {
        "name": "ipython",
        "version": 3
      },
      "file_extension": ".py",
      "mimetype": "text/x-python",
      "name": "python",
      "nbconvert_exporter": "python",
      "pygments_lexer": "ipython3",
      "version": "3.7.3"
    },
    "colab": {
      "provenance": []
    }
  },
  "nbformat": 4,
  "nbformat_minor": 0
}